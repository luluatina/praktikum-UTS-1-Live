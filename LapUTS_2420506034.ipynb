{
  "nbformat": 4,
  "nbformat_minor": 0,
  "metadata": {
    "colab": {
      "provenance": [],
      "authorship_tag": "ABX9TyPjqP6SZ5mAK8VOiC+mAFuo",
      "include_colab_link": true
    },
    "kernelspec": {
      "name": "python3",
      "display_name": "Python 3"
    },
    "language_info": {
      "name": "python"
    }
  },
  "cells": [
    {
      "cell_type": "markdown",
      "metadata": {
        "id": "view-in-github",
        "colab_type": "text"
      },
      "source": [
        "<a href=\"https://colab.research.google.com/github/luluatina/praktikum-UTS-1-Live/blob/main/LapUTS_2420506034.ipynb\" target=\"_parent\"><img src=\"https://colab.research.google.com/assets/colab-badge.svg\" alt=\"Open In Colab\"/></a>"
      ]
    },
    {
      "cell_type": "code",
      "execution_count": 7,
      "metadata": {
        "colab": {
          "base_uri": "https://localhost:8080/"
        },
        "id": "5fptO8QXLpzo",
        "outputId": "c213144a-42f0-4129-d887-ceaf2f84fa1a"
      },
      "outputs": [
        {
          "output_type": "stream",
          "name": "stdout",
          "text": [
            "Masukkan NPM Anda: 2420506034\n",
            "Jumlah digit genap: 8\n",
            "Jumlah digit ganjil: 2\n"
          ]
        }
      ],
      "source": [
        "NPM = input (\"Masukkan NPM Anda: \")\n",
        "\n",
        "genap = 0\n",
        "ganjil = 0\n",
        "\n",
        "for i in NPM:\n",
        "    if int(i) % 2 == 0:\n",
        "        genap += 1\n",
        "    else:\n",
        "        ganjil += 1\n",
        "\n",
        "print(\"Jumlah digit genap:\", genap)\n",
        "print(\"Jumlah digit ganjil:\", ganjil)"
      ]
    },
    {
      "cell_type": "code",
      "source": [
        "baris = int(input(\"Masukkan jumlah baris: \"))\n",
        "\n",
        "for i in range(1, baris + 1):\n",
        "    for j in range(1, i + 1):\n",
        "        print(i*j, end=\" \")\n",
        "    print()"
      ],
      "metadata": {
        "colab": {
          "base_uri": "https://localhost:8080/"
        },
        "id": "z0kU8nDfOA2w",
        "outputId": "4b13910f-75cd-49d2-f58d-33019eaaa77d"
      },
      "execution_count": 8,
      "outputs": [
        {
          "output_type": "stream",
          "name": "stdout",
          "text": [
            "Masukkan jumlah baris: 10\n",
            "1 \n",
            "2 4 \n",
            "3 6 9 \n",
            "4 8 12 16 \n",
            "5 10 15 20 25 \n",
            "6 12 18 24 30 36 \n",
            "7 14 21 28 35 42 49 \n",
            "8 16 24 32 40 48 56 64 \n",
            "9 18 27 36 45 54 63 72 81 \n",
            "10 20 30 40 50 60 70 80 90 100 \n"
          ]
        }
      ]
    }
  ]
}